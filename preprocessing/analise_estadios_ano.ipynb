{
 "cells": [
  {
   "cell_type": "code",
   "execution_count": 1,
   "id": "14c78438",
   "metadata": {},
   "outputs": [],
   "source": [
    "import pandas as pd\n",
    "\n",
    "# Carregar o dataset de partidas\n",
    "partidas = pd.read_csv('../data/raw/campeonato-brasileiro-full.csv')\n",
    "\n",
    "# Converter a coluna 'Data' para o formato datetime e extrair o ano\n",
    "partidas['data'] = pd.to_datetime(partidas['data'], dayfirst=True)\n",
    "partidas['ano'] = partidas['data'].dt.year\n",
    "\n",
    "# Inicializar um dicionário para armazenar os dados agregados\n",
    "estadios_ano_dict = {}\n",
    "\n",
    "# Iterar sobre cada partida para agregar os dados por estádio e ano\n",
    "for _, partida in partidas.iterrows():\n",
    "    estadio = partida['arena']\n",
    "    ano = partida['ano']\n",
    "    mandante = partida['mandante']\n",
    "\n",
    "    if (estadio, ano, mandante) not in estadios_ano_dict:\n",
    "        estadios_ano_dict[(estadio, ano, mandante)] = {\n",
    "            'estadio': estadio,\n",
    "            'ano': ano,\n",
    "            'mandante': mandante,\n",
    "            'partidas': 0,\n",
    "            'vitorias_casa': 0,\n",
    "            'vitorias_fora': 0,\n",
    "            'empates': 0,\n",
    "        }\n",
    "    \n",
    "    # Atualizar as estatísticas\n",
    "    estadios_ano_dict[(estadio, ano, mandante)]['partidas'] += 1\n",
    "    if partida['vencedor'] == partida['mandante']:\n",
    "        estadios_ano_dict[(estadio, ano, mandante)]['vitorias_casa'] += 1\n",
    "    elif partida['vencedor'] == partida['visitante']:\n",
    "        estadios_ano_dict[(estadio, ano, mandante)]['vitorias_fora'] += 1\n",
    "    else:\n",
    "        estadios_ano_dict[(estadio, ano, mandante)]['empates'] += 1\n",
    "\n",
    "# Converter o dicionário em um DataFrame\n",
    "estadios_ano_df = pd.DataFrame(estadios_ano_dict.values())\n",
    "\n",
    "# Salvar o novo dataset\n",
    "estadios_ano_df.to_csv('../data/processed/estadios_ano_mandante.csv', index=False)"
   ]
  }
 ],
 "metadata": {
  "kernelspec": {
   "display_name": "datascience",
   "language": "python",
   "name": "python3"
  },
  "language_info": {
   "codemirror_mode": {
    "name": "ipython",
    "version": 3
   },
   "file_extension": ".py",
   "mimetype": "text/x-python",
   "name": "python",
   "nbconvert_exporter": "python",
   "pygments_lexer": "ipython3",
   "version": "3.12.9"
  }
 },
 "nbformat": 4,
 "nbformat_minor": 5
}
