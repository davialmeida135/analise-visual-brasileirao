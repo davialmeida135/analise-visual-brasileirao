{
 "cells": [
  {
   "cell_type": "code",
   "execution_count": null,
   "id": "ae1d2100",
   "metadata": {},
   "outputs": [],
   "source": [
    "import pandas as pd\n",
    "import datetime\n",
    "from geopy.geocoders import Nominatim"
   ]
  },
  {
   "cell_type": "code",
   "execution_count": null,
   "id": "2daa1207",
   "metadata": {},
   "outputs": [
    {
     "name": "stdout",
     "output_type": "stream",
     "text": [
      "<class 'pandas.core.frame.DataFrame'>\n",
      "RangeIndex: 8785 entries, 0 to 8784\n",
      "Data columns (total 16 columns):\n",
      " #   Column              Non-Null Count  Dtype \n",
      "---  ------              --------------  ----- \n",
      " 0   ID                  8785 non-null   int64 \n",
      " 1   rodata              8785 non-null   int64 \n",
      " 2   data                8785 non-null   object\n",
      " 3   hora                8785 non-null   object\n",
      " 4   mandante            8785 non-null   object\n",
      " 5   visitante           8785 non-null   object\n",
      " 6   formacao_mandante   3810 non-null   object\n",
      " 7   formacao_visitante  3810 non-null   object\n",
      " 8   tecnico_mandante    4175 non-null   object\n",
      " 9   tecnico_visitante   4175 non-null   object\n",
      " 10  vencedor            8785 non-null   object\n",
      " 11  arena               8785 non-null   object\n",
      " 12  mandante_Placar     8785 non-null   int64 \n",
      " 13  visitante_Placar    8785 non-null   int64 \n",
      " 14  mandante_Estado     8785 non-null   object\n",
      " 15  visitante_Estado    8785 non-null   object\n",
      "dtypes: int64(4), object(12)\n",
      "memory usage: 1.1+ MB\n"
     ]
    }
   ],
   "source": [
    "# Carrega csv com dados das partidas\n",
    "partidas = pd.read_csv('../data/raw/campeonato-brasileiro-full.csv')\n",
    "partidas.info()"
   ]
  },
  {
   "cell_type": "code",
   "execution_count": null,
   "id": "004f2491",
   "metadata": {},
   "outputs": [
    {
     "name": "stdout",
     "output_type": "stream",
     "text": [
      "<class 'pandas.core.frame.DataFrame'>\n",
      "RangeIndex: 20953 entries, 0 to 20952\n",
      "Data columns (total 8 columns):\n",
      " #   Column      Non-Null Count  Dtype  \n",
      "---  ------      --------------  -----  \n",
      " 0   partida_id  20953 non-null  int64  \n",
      " 1   rodata      20953 non-null  int64  \n",
      " 2   clube       20953 non-null  object \n",
      " 3   cartao      20953 non-null  object \n",
      " 4   atleta      20947 non-null  object \n",
      " 5   num_camisa  20567 non-null  float64\n",
      " 6   posicao     19755 non-null  object \n",
      " 7   minuto      20953 non-null  object \n",
      "dtypes: float64(1), int64(2), object(5)\n",
      "memory usage: 1.3+ MB\n"
     ]
    }
   ],
   "source": [
    "# Carrega csv com dados dos cartões\n",
    "cartoes = pd.read_csv('../data/raw/campeonato-brasileiro-cartoes.csv')\n",
    "cartoes.info()"
   ]
  },
  {
   "cell_type": "code",
   "execution_count": 7,
   "id": "83114878",
   "metadata": {},
   "outputs": [],
   "source": [
    "partidas[\"partida_id\"] = partidas[\"ID\"]"
   ]
  },
  {
   "cell_type": "code",
   "execution_count": 8,
   "id": "fd370baa",
   "metadata": {},
   "outputs": [
    {
     "name": "stdout",
     "output_type": "stream",
     "text": [
      "<class 'pandas.core.frame.DataFrame'>\n",
      "RangeIndex: 20953 entries, 0 to 20952\n",
      "Data columns (total 24 columns):\n",
      " #   Column              Non-Null Count  Dtype  \n",
      "---  ------              --------------  -----  \n",
      " 0   ID                  20953 non-null  int64  \n",
      " 1   rodata_x            20953 non-null  int64  \n",
      " 2   data                20953 non-null  object \n",
      " 3   hora                20953 non-null  object \n",
      " 4   mandante            20953 non-null  object \n",
      " 5   visitante           20953 non-null  object \n",
      " 6   formacao_mandante   19222 non-null  object \n",
      " 7   formacao_visitante  19222 non-null  object \n",
      " 8   tecnico_mandante    20936 non-null  object \n",
      " 9   tecnico_visitante   20933 non-null  object \n",
      " 10  vencedor            20953 non-null  object \n",
      " 11  arena               20953 non-null  object \n",
      " 12  mandante_Placar     20953 non-null  int64  \n",
      " 13  visitante_Placar    20953 non-null  int64  \n",
      " 14  mandante_Estado     20953 non-null  object \n",
      " 15  visitante_Estado    20953 non-null  object \n",
      " 16  partida_id          20953 non-null  int64  \n",
      " 17  rodata_y            20953 non-null  int64  \n",
      " 18  clube               20953 non-null  object \n",
      " 19  cartao              20953 non-null  object \n",
      " 20  atleta              20947 non-null  object \n",
      " 21  num_camisa          20567 non-null  float64\n",
      " 22  posicao             19755 non-null  object \n",
      " 23  minuto              20953 non-null  object \n",
      "dtypes: float64(1), int64(6), object(17)\n",
      "memory usage: 3.8+ MB\n"
     ]
    }
   ],
   "source": [
    "final_df  = pd.merge(partidas, cartoes, on='partida_id', how='inner')\n",
    "final_df.info()"
   ]
  },
  {
   "cell_type": "code",
   "execution_count": 9,
   "id": "02a560f6",
   "metadata": {},
   "outputs": [],
   "source": [
    "final_df = final_df[[\"partida_id\", \"data\", \"vencedor\", \"mandante\", \"visitante\", \"clube\", \"cartao\", \"atleta\", \"posicao\", \"minuto\"]]"
   ]
  },
  {
   "cell_type": "code",
   "execution_count": 19,
   "id": "c75128dc",
   "metadata": {},
   "outputs": [],
   "source": [
    "for idx, row in final_df.iterrows():\n",
    "    if row['vencedor'] == row['mandante']:\n",
    "        if row['clube'] == row['mandante']:\n",
    "            final_df.at[idx, 'resultado'] = 'Vitória'\n",
    "        else:\n",
    "            final_df.at[idx, 'resultado'] = 'Derrota'\n",
    "    elif row['vencedor'] == row['visitante']:\n",
    "        if row['clube'] == row['visitante']:\n",
    "            final_df.at[idx, 'resultado'] = 'Vitória'\n",
    "        else:\n",
    "            final_df.at[idx, 'resultado'] = 'Derrota'\n",
    "    else:\n",
    "        final_df.at[idx, 'resultado'] = 'Empate'"
   ]
  },
  {
   "cell_type": "code",
   "execution_count": 20,
   "id": "c8816efd",
   "metadata": {},
   "outputs": [
    {
     "name": "stdout",
     "output_type": "stream",
     "text": [
      "<class 'pandas.core.frame.DataFrame'>\n",
      "RangeIndex: 20953 entries, 0 to 20952\n",
      "Data columns (total 11 columns):\n",
      " #   Column      Non-Null Count  Dtype \n",
      "---  ------      --------------  ----- \n",
      " 0   partida_id  20953 non-null  int64 \n",
      " 1   data        20953 non-null  object\n",
      " 2   vencedor    20953 non-null  object\n",
      " 3   mandante    20953 non-null  object\n",
      " 4   visitante   20953 non-null  object\n",
      " 5   clube       20953 non-null  object\n",
      " 6   cartao      20953 non-null  object\n",
      " 7   atleta      20947 non-null  object\n",
      " 8   posicao     19755 non-null  object\n",
      " 9   minuto      20953 non-null  object\n",
      " 10  resultado   20953 non-null  object\n",
      "dtypes: int64(1), object(10)\n",
      "memory usage: 1.8+ MB\n"
     ]
    }
   ],
   "source": [
    "final_df.info()\n",
    "final_df.to_csv('../data/processed/analise_faltas.csv', index=False)"
   ]
  }
 ],
 "metadata": {
  "kernelspec": {
   "display_name": "datascience",
   "language": "python",
   "name": "python3"
  },
  "language_info": {
   "codemirror_mode": {
    "name": "ipython",
    "version": 3
   },
   "file_extension": ".py",
   "mimetype": "text/x-python",
   "name": "python",
   "nbconvert_exporter": "python",
   "pygments_lexer": "ipython3",
   "version": "3.12.11"
  }
 },
 "nbformat": 4,
 "nbformat_minor": 5
}
