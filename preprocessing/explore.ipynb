{
 "cells": [
  {
   "cell_type": "code",
   "execution_count": 1,
   "id": "2fc731c3",
   "metadata": {},
   "outputs": [],
   "source": [
    "import pandas as pd"
   ]
  },
  {
   "cell_type": "code",
   "execution_count": 2,
   "id": "b9b58703",
   "metadata": {},
   "outputs": [
    {
     "name": "stdout",
     "output_type": "stream",
     "text": [
      "<class 'pandas.core.frame.DataFrame'>\n",
      "RangeIndex: 8785 entries, 0 to 8784\n",
      "Data columns (total 16 columns):\n",
      " #   Column              Non-Null Count  Dtype \n",
      "---  ------              --------------  ----- \n",
      " 0   ID                  8785 non-null   int64 \n",
      " 1   rodata              8785 non-null   int64 \n",
      " 2   data                8785 non-null   object\n",
      " 3   hora                8785 non-null   object\n",
      " 4   mandante            8785 non-null   object\n",
      " 5   visitante           8785 non-null   object\n",
      " 6   formacao_mandante   3810 non-null   object\n",
      " 7   formacao_visitante  3810 non-null   object\n",
      " 8   tecnico_mandante    4175 non-null   object\n",
      " 9   tecnico_visitante   4175 non-null   object\n",
      " 10  vencedor            8785 non-null   object\n",
      " 11  arena               8785 non-null   object\n",
      " 12  mandante_Placar     8785 non-null   int64 \n",
      " 13  visitante_Placar    8785 non-null   int64 \n",
      " 14  mandante_Estado     8785 non-null   object\n",
      " 15  visitante_Estado    8785 non-null   object\n",
      "dtypes: int64(4), object(12)\n",
      "memory usage: 1.1+ MB\n"
     ]
    }
   ],
   "source": [
    "partidas = pd.read_csv('../data/raw/campeonato-brasileiro-full.csv')\n",
    "partidas.info()"
   ]
  }
 ],
 "metadata": {
  "kernelspec": {
   "display_name": "datascience",
   "language": "python",
   "name": "python3"
  },
  "language_info": {
   "codemirror_mode": {
    "name": "ipython",
    "version": 3
   },
   "file_extension": ".py",
   "mimetype": "text/x-python",
   "name": "python",
   "nbconvert_exporter": "python",
   "pygments_lexer": "ipython3",
   "version": "3.12.9"
  }
 },
 "nbformat": 4,
 "nbformat_minor": 5
}
