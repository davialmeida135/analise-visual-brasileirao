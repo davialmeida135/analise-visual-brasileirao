{
 "cells": [
  {
   "cell_type": "code",
   "execution_count": 1,
   "id": "2fc731c3",
   "metadata": {},
   "outputs": [],
   "source": [
    "import pandas as pd"
   ]
  },
  {
   "cell_type": "code",
   "execution_count": 5,
   "id": "b9b58703",
   "metadata": {},
   "outputs": [
    {
     "name": "stdout",
     "output_type": "stream",
     "text": [
      "<class 'pandas.core.frame.DataFrame'>\n",
      "RangeIndex: 863 entries, 0 to 862\n",
      "Data columns (total 7 columns):\n",
      " #   Column         Non-Null Count  Dtype \n",
      "---  ------         --------------  ----- \n",
      " 0   estadio        863 non-null    object\n",
      " 1   ano            863 non-null    int64 \n",
      " 2   mandante       863 non-null    object\n",
      " 3   partidas       863 non-null    int64 \n",
      " 4   vitorias_casa  863 non-null    int64 \n",
      " 5   vitorias_fora  863 non-null    int64 \n",
      " 6   empates        863 non-null    int64 \n",
      "dtypes: int64(5), object(2)\n",
      "memory usage: 47.3+ KB\n"
     ]
    }
   ],
   "source": [
    "estadios_ano = pd.read_csv('../data/processed/estadios_ano_mandante.csv')\n",
    "estadios_ano.info()"
   ]
  },
  {
   "cell_type": "code",
   "execution_count": 16,
   "id": "c5623ab9",
   "metadata": {},
   "outputs": [
    {
     "name": "stdout",
     "output_type": "stream",
     "text": [
      "14\n"
     ]
    },
    {
     "data": {
      "text/plain": [
       "empates\n",
       "0     243\n",
       "1     148\n",
       "3      98\n",
       "5      84\n",
       "4      83\n",
       "6      68\n",
       "2      64\n",
       "7      38\n",
       "8      21\n",
       "9       8\n",
       "10      5\n",
       "11      1\n",
       "13      1\n",
       "12      1\n",
       "Name: count, dtype: int64"
      ]
     },
     "execution_count": 16,
     "metadata": {},
     "output_type": "execute_result"
    }
   ],
   "source": [
    "var = 'empates'\n",
    "\n",
    "print(len(estadios_ano[var].value_counts()))\n",
    "estadios_ano[var].value_counts()"
   ]
  },
  {
   "cell_type": "code",
   "execution_count": 17,
   "id": "4511287b",
   "metadata": {},
   "outputs": [
    {
     "name": "stdout",
     "output_type": "stream",
     "text": [
      "<class 'pandas.core.frame.DataFrame'>\n",
      "RangeIndex: 114 entries, 0 to 113\n",
      "Data columns (total 10 columns):\n",
      " #   Column                 Non-Null Count  Dtype \n",
      "---  ------                 --------------  ----- \n",
      " 0   estadio                114 non-null    object\n",
      " 1   partidas               114 non-null    int64 \n",
      " 2   vitorias_casa          114 non-null    int64 \n",
      " 3   vitorias_fora          114 non-null    int64 \n",
      " 4   empates                114 non-null    int64 \n",
      " 5   data_primeira_partida  114 non-null    object\n",
      " 6   data_ultima_partida    114 non-null    object\n",
      " 7   times_casa             114 non-null    object\n",
      " 8   latitude               114 non-null    object\n",
      " 9   longitude              114 non-null    object\n",
      "dtypes: int64(4), object(6)\n",
      "memory usage: 9.0+ KB\n"
     ]
    }
   ],
   "source": [
    "estadios_hist = pd.read_csv('../data/processed/estadios_historico.csv')\n",
    "estadios_hist.info()"
   ]
  },
  {
   "cell_type": "code",
   "execution_count": null,
   "id": "a051d109",
   "metadata": {},
   "outputs": [],
   "source": []
  }
 ],
 "metadata": {
  "kernelspec": {
   "display_name": "datascience",
   "language": "python",
   "name": "python3"
  },
  "language_info": {
   "codemirror_mode": {
    "name": "ipython",
    "version": 3
   },
   "file_extension": ".py",
   "mimetype": "text/x-python",
   "name": "python",
   "nbconvert_exporter": "python",
   "pygments_lexer": "ipython3",
   "version": "3.12.9"
  }
 },
 "nbformat": 4,
 "nbformat_minor": 5
}
